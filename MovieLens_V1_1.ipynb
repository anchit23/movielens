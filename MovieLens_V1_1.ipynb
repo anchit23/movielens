{
  "nbformat": 4,
  "nbformat_minor": 0,
  "metadata": {
    "kernelspec": {
      "display_name": "Python 3",
      "language": "python",
      "name": "python3"
    },
    "language_info": {
      "codemirror_mode": {
        "name": "ipython",
        "version": 3
      },
      "file_extension": ".py",
      "mimetype": "text/x-python",
      "name": "python",
      "nbconvert_exporter": "python",
      "pygments_lexer": "ipython3",
      "version": "3.7.4"
    },
    "colab": {
      "name": "MovieLens_Pyspark_V1.1.ipynb",
      "provenance": [],
      "collapsed_sections": []
    }
  },
  "cells": [
    {
      "cell_type": "code",
      "metadata": {
        "id": "FVTgI6gDgqly",
        "outputId": "aba227f6-956f-491b-ac48-8c512f5e21e6",
        "colab": {
          "base_uri": "https://localhost:8080/",
          "height": 34
        }
      },
      "source": [
        "#Importing Google Drive to access Dataset\n",
        "from google.colab import drive\n",
        "drive.mount('/content/drive')"
      ],
      "execution_count": 1,
      "outputs": [
        {
          "output_type": "stream",
          "text": [
            "Mounted at /content/drive\n"
          ],
          "name": "stdout"
        }
      ]
    },
    {
      "cell_type": "code",
      "metadata": {
        "id": "LK9w7qOhg972"
      },
      "source": [
        "#!pip install pyspark"
      ],
      "execution_count": 39,
      "outputs": []
    },
    {
      "cell_type": "code",
      "metadata": {
        "id": "iF666F03gp-7"
      },
      "source": [
        "import os\n",
        "import pyspark\n",
        "from pyspark.sql import SparkSession"
      ],
      "execution_count": 4,
      "outputs": []
    },
    {
      "cell_type": "code",
      "metadata": {
        "id": "K0K_4Rmmgp_C"
      },
      "source": [
        "spark = SparkSession.builder.appName('movielens').getOrCreate()\n"
      ],
      "execution_count": 5,
      "outputs": []
    },
    {
      "cell_type": "code",
      "metadata": {
        "id": "mpFBuSU3gp_H"
      },
      "source": [
        "from pyspark.sql.functions import *\n",
        "from pyspark.ml.evaluation import RegressionEvaluator\n",
        "from pyspark.ml.recommendation import ALS\n",
        "from pyspark.ml.tuning import ParamGridBuilder, CrossValidator"
      ],
      "execution_count": 6,
      "outputs": []
    },
    {
      "cell_type": "markdown",
      "metadata": {
        "id": "EGPo2JkhOcEX"
      },
      "source": [
        "# **Loading Dataset**"
      ]
    },
    {
      "cell_type": "code",
      "metadata": {
        "id": "PjzdGUSEgp_K"
      },
      "source": [
        "movies = spark.read.csv(\"/content/drive/My Drive/Projects/MovieLens/movies.csv\",inferSchema=True,header=True)"
      ],
      "execution_count": 7,
      "outputs": []
    },
    {
      "cell_type": "code",
      "metadata": {
        "id": "FKJCHET_gp_O",
        "outputId": "b89f1b32-2a05-4bf2-ef0d-d211f7d746ac",
        "colab": {
          "base_uri": "https://localhost:8080/",
          "height": 102
        }
      },
      "source": [
        "movies.printSchema()"
      ],
      "execution_count": 8,
      "outputs": [
        {
          "output_type": "stream",
          "text": [
            "root\n",
            " |-- movieId: integer (nullable = true)\n",
            " |-- title: string (nullable = true)\n",
            " |-- genres: string (nullable = true)\n",
            "\n"
          ],
          "name": "stdout"
        }
      ]
    },
    {
      "cell_type": "code",
      "metadata": {
        "id": "yiDPu1njgp_R",
        "outputId": "13ea4e08-ca36-4932-f739-6968a986b93c",
        "colab": {
          "base_uri": "https://localhost:8080/",
          "height": 289
        }
      },
      "source": [
        "movies.show(10)"
      ],
      "execution_count": 9,
      "outputs": [
        {
          "output_type": "stream",
          "text": [
            "+-------+--------------------+--------------------+\n",
            "|movieId|               title|              genres|\n",
            "+-------+--------------------+--------------------+\n",
            "|      1|    Toy Story (1995)|Adventure|Animati...|\n",
            "|      2|      Jumanji (1995)|Adventure|Childre...|\n",
            "|      3|Grumpier Old Men ...|      Comedy|Romance|\n",
            "|      4|Waiting to Exhale...|Comedy|Drama|Romance|\n",
            "|      5|Father of the Bri...|              Comedy|\n",
            "|      6|         Heat (1995)|Action|Crime|Thri...|\n",
            "|      7|      Sabrina (1995)|      Comedy|Romance|\n",
            "|      8| Tom and Huck (1995)|  Adventure|Children|\n",
            "|      9| Sudden Death (1995)|              Action|\n",
            "|     10|    GoldenEye (1995)|Action|Adventure|...|\n",
            "+-------+--------------------+--------------------+\n",
            "only showing top 10 rows\n",
            "\n"
          ],
          "name": "stdout"
        }
      ]
    },
    {
      "cell_type": "code",
      "metadata": {
        "id": "PxwS8c53QHu7",
        "outputId": "94d6268b-a9cc-46cf-8ae1-a5bfff4f5544",
        "colab": {
          "base_uri": "https://localhost:8080/",
          "height": 187
        }
      },
      "source": [
        "movies.describe().show()"
      ],
      "execution_count": 40,
      "outputs": [
        {
          "output_type": "stream",
          "text": [
            "+-------+------------------+--------------------+------------------+\n",
            "|summary|           movieId|               title|            genres|\n",
            "+-------+------------------+--------------------+------------------+\n",
            "|  count|             62423|               62423|             62423|\n",
            "|   mean|122220.38764557935|                null|              null|\n",
            "| stddev| 63264.74484425327|                null|              null|\n",
            "|    min|                 1|\"\"\"BLOW THE NIGHT...|(no genres listed)|\n",
            "|    max|            209171|     줄탁동시 (2012)|           Western|\n",
            "+-------+------------------+--------------------+------------------+\n",
            "\n"
          ],
          "name": "stdout"
        }
      ]
    },
    {
      "cell_type": "markdown",
      "metadata": {
        "id": "T6lt6aluQMcu"
      },
      "source": [
        "#### There are a total of 62k movies in the dataset"
      ]
    },
    {
      "cell_type": "code",
      "metadata": {
        "id": "M1rs6mJygp_U",
        "outputId": "fa416645-d03c-4655-fee5-847c0709dd17",
        "colab": {
          "base_uri": "https://localhost:8080/",
          "height": 289
        }
      },
      "source": [
        "ratings = spark.read.csv(\"/content/drive/My Drive/Projects/MovieLens/ratings.csv\",inferSchema=True,header=True)\n",
        "ratings.show(10)"
      ],
      "execution_count": 10,
      "outputs": [
        {
          "output_type": "stream",
          "text": [
            "+------+-------+------+----------+\n",
            "|userId|movieId|rating| timestamp|\n",
            "+------+-------+------+----------+\n",
            "|     1|    296|   5.0|1147880044|\n",
            "|     1|    306|   3.5|1147868817|\n",
            "|     1|    307|   5.0|1147868828|\n",
            "|     1|    665|   5.0|1147878820|\n",
            "|     1|    899|   3.5|1147868510|\n",
            "|     1|   1088|   4.0|1147868495|\n",
            "|     1|   1175|   3.5|1147868826|\n",
            "|     1|   1217|   3.5|1147878326|\n",
            "|     1|   1237|   5.0|1147868839|\n",
            "|     1|   1250|   4.0|1147868414|\n",
            "+------+-------+------+----------+\n",
            "only showing top 10 rows\n",
            "\n"
          ],
          "name": "stdout"
        }
      ]
    },
    {
      "cell_type": "code",
      "metadata": {
        "id": "MkpaAtOTgp_X",
        "outputId": "a38a1296-8b3c-4f9a-b0a1-efbde07d6860",
        "colab": {
          "base_uri": "https://localhost:8080/",
          "height": 119
        }
      },
      "source": [
        "ratings.printSchema()"
      ],
      "execution_count": 11,
      "outputs": [
        {
          "output_type": "stream",
          "text": [
            "root\n",
            " |-- userId: integer (nullable = true)\n",
            " |-- movieId: integer (nullable = true)\n",
            " |-- rating: double (nullable = true)\n",
            " |-- timestamp: integer (nullable = true)\n",
            "\n"
          ],
          "name": "stdout"
        }
      ]
    },
    {
      "cell_type": "code",
      "metadata": {
        "id": "ungBURCcgp_a",
        "outputId": "8a8e1338-2546-4222-d2c3-3a2dba183aa0",
        "colab": {
          "base_uri": "https://localhost:8080/",
          "height": 187
        }
      },
      "source": [
        "ratings.describe().show()"
      ],
      "execution_count": 12,
      "outputs": [
        {
          "output_type": "stream",
          "text": [
            "+-------+-----------------+------------------+------------------+--------------------+\n",
            "|summary|           userId|           movieId|            rating|           timestamp|\n",
            "+-------+-----------------+------------------+------------------+--------------------+\n",
            "|  count|         25000095|          25000095|          25000095|            25000095|\n",
            "|   mean|81189.28115381162|21387.981943268616| 3.533854451353085|1.2156014431215513E9|\n",
            "| stddev|46791.71589745776| 39198.86210105973|1.0607439611423535| 2.268758080595386E8|\n",
            "|    min|                1|                 1|               0.5|           789652009|\n",
            "|    max|           162541|            209171|               5.0|          1574327703|\n",
            "+-------+-----------------+------------------+------------------+--------------------+\n",
            "\n"
          ],
          "name": "stdout"
        }
      ]
    },
    {
      "cell_type": "markdown",
      "metadata": {
        "id": "t7rHxTOYP3sr"
      },
      "source": [
        "#### There are close to 25m user ratings in the dataset"
      ]
    },
    {
      "cell_type": "markdown",
      "metadata": {
        "id": "F-xrNPDpgp_f"
      },
      "source": [
        "# **Exploratory Data Analysis**"
      ]
    },
    {
      "cell_type": "markdown",
      "metadata": {
        "id": "_a89LbrEOr8L"
      },
      "source": [
        "##### Movies can have 3-4 different generes, so first I want to check different types of generes and thier count in the dataset"
      ]
    },
    {
      "cell_type": "code",
      "metadata": {
        "id": "z5i3yne4gp_f",
        "outputId": "694a5cb9-bd06-4de8-ab83-a007ad2633bf",
        "colab": {
          "base_uri": "https://localhost:8080/",
          "height": 442
        }
      },
      "source": [
        "movies.withColumn(\"genres\",explode(split(\"genres\",\"[|]\"))).groupBy(\"genres\").count().show()"
      ],
      "execution_count": 14,
      "outputs": [
        {
          "output_type": "stream",
          "text": [
            "+------------------+-----+\n",
            "|            genres|count|\n",
            "+------------------+-----+\n",
            "|             Crime| 5319|\n",
            "|           Romance| 7719|\n",
            "|          Thriller| 8654|\n",
            "|         Adventure| 4145|\n",
            "|             Drama|25606|\n",
            "|               War| 1874|\n",
            "|       Documentary| 5605|\n",
            "|           Fantasy| 2731|\n",
            "|           Mystery| 2925|\n",
            "|           Musical| 1054|\n",
            "|         Animation| 2929|\n",
            "|         Film-Noir|  353|\n",
            "|(no genres listed)| 5062|\n",
            "|              IMAX|  195|\n",
            "|            Horror| 5989|\n",
            "|           Western| 1399|\n",
            "|            Comedy|16870|\n",
            "|          Children| 2935|\n",
            "|            Action| 7348|\n",
            "|            Sci-Fi| 3595|\n",
            "+------------------+-----+\n",
            "\n"
          ],
          "name": "stdout"
        }
      ]
    },
    {
      "cell_type": "markdown",
      "metadata": {
        "id": "kESbeZCRPVP-"
      },
      "source": [
        "Their are 18 different types fo generes and one with no generes. There are 5062 movies with no genere"
      ]
    },
    {
      "cell_type": "markdown",
      "metadata": {
        "id": "idEcvM4FPsNd"
      },
      "source": [
        "Most fetured genere is DRAMA followed by COMEDY"
      ]
    },
    {
      "cell_type": "markdown",
      "metadata": {
        "id": "qkFGCwoIgp_h"
      },
      "source": [
        "### Most Popular Movies"
      ]
    },
    {
      "cell_type": "markdown",
      "metadata": {
        "id": "f3YnVx24Qqey"
      },
      "source": [
        "#### These are the movies with the highest number of ratings"
      ]
    },
    {
      "cell_type": "code",
      "metadata": {
        "id": "OnXVMOIPgp_i"
      },
      "source": [
        "popular = ratings.groupBy(\"movieId\").agg(count(\"userId\")).withColumnRenamed(\"count(userId)\",\n",
        "                                                                            \"num_ratings\").sort(desc(\"num_ratings\"))"
      ],
      "execution_count": 15,
      "outputs": []
    },
    {
      "cell_type": "code",
      "metadata": {
        "id": "ZUR7Fv98gp_k",
        "outputId": "e382d7d4-80d0-4ef4-fbce-75ec39a68dc1",
        "colab": {
          "base_uri": "https://localhost:8080/",
          "height": 289
        }
      },
      "source": [
        "popular.show(10)"
      ],
      "execution_count": 16,
      "outputs": [
        {
          "output_type": "stream",
          "text": [
            "+-------+-----------+\n",
            "|movieId|num_ratings|\n",
            "+-------+-----------+\n",
            "|    356|      81491|\n",
            "|    318|      81482|\n",
            "|    296|      79672|\n",
            "|    593|      74127|\n",
            "|   2571|      72674|\n",
            "|    260|      68717|\n",
            "|    480|      64144|\n",
            "|    527|      60411|\n",
            "|    110|      59184|\n",
            "|   2959|      58773|\n",
            "+-------+-----------+\n",
            "only showing top 10 rows\n",
            "\n"
          ],
          "name": "stdout"
        }
      ]
    },
    {
      "cell_type": "markdown",
      "metadata": {
        "id": "NPkhc1oSQ5Dh"
      },
      "source": [
        "Joining the popular dataset with movies dataset to get the names of most popular movies"
      ]
    },
    {
      "cell_type": "code",
      "metadata": {
        "id": "pX_fEuBqgp_m"
      },
      "source": [
        "mostpopular_movies = popular.join(movies, popular.movieId == movies.movieId).sort(desc(\"num_ratings\"))"
      ],
      "execution_count": 17,
      "outputs": []
    },
    {
      "cell_type": "code",
      "metadata": {
        "id": "HLl2mN-Igp_n",
        "outputId": "f0d4490c-207f-45cc-8545-f9aa0965f5ae",
        "colab": {
          "base_uri": "https://localhost:8080/",
          "height": 289
        }
      },
      "source": [
        "mostpopular_movies.show(10,truncate= False)"
      ],
      "execution_count": 18,
      "outputs": [
        {
          "output_type": "stream",
          "text": [
            "+-------+-----------+-------+-----------------------------------------+--------------------------------+\n",
            "|movieId|num_ratings|movieId|title                                    |genres                          |\n",
            "+-------+-----------+-------+-----------------------------------------+--------------------------------+\n",
            "|356    |81491      |356    |Forrest Gump (1994)                      |Comedy|Drama|Romance|War        |\n",
            "|318    |81482      |318    |Shawshank Redemption, The (1994)         |Crime|Drama                     |\n",
            "|296    |79672      |296    |Pulp Fiction (1994)                      |Comedy|Crime|Drama|Thriller     |\n",
            "|593    |74127      |593    |Silence of the Lambs, The (1991)         |Crime|Horror|Thriller           |\n",
            "|2571   |72674      |2571   |Matrix, The (1999)                       |Action|Sci-Fi|Thriller          |\n",
            "|260    |68717      |260    |Star Wars: Episode IV - A New Hope (1977)|Action|Adventure|Sci-Fi         |\n",
            "|480    |64144      |480    |Jurassic Park (1993)                     |Action|Adventure|Sci-Fi|Thriller|\n",
            "|527    |60411      |527    |Schindler's List (1993)                  |Drama|War                       |\n",
            "|110    |59184      |110    |Braveheart (1995)                        |Action|Drama|War                |\n",
            "|2959   |58773      |2959   |Fight Club (1999)                        |Action|Crime|Drama|Thriller     |\n",
            "+-------+-----------+-------+-----------------------------------------+--------------------------------+\n",
            "only showing top 10 rows\n",
            "\n"
          ],
          "name": "stdout"
        }
      ]
    },
    {
      "cell_type": "markdown",
      "metadata": {
        "id": "FaeGTYHygp_p"
      },
      "source": [
        "#### These are 10 highly rated movies by users. List includes movies like ***Forest Gump, Pulp Fiction, Jurassic Park and Starwars*** ***!!!***"
      ]
    },
    {
      "cell_type": "markdown",
      "metadata": {
        "id": "9pbn0oFHgp_p"
      },
      "source": [
        "### Top Rated Movie"
      ]
    },
    {
      "cell_type": "markdown",
      "metadata": {
        "id": "WlHmTwOARpe_"
      },
      "source": [
        "#### These are the movies with the highest average rating"
      ]
    },
    {
      "cell_type": "code",
      "metadata": {
        "id": "Sk7xcHzRgp_q"
      },
      "source": [
        "top_rated = ratings.groupBy(\"movieId\").agg(count(\"userId\"),\n",
        "                                           avg(col(\"rating\"))).withColumnRenamed(\"count(userId)\",\n",
        "                                                                                 \"num_ratings\").withColumnRenamed(\"avg(rating)\", \"avg_rating\")"
      ],
      "execution_count": 19,
      "outputs": []
    },
    {
      "cell_type": "code",
      "metadata": {
        "id": "rGBfl1GXgp_r",
        "outputId": "27b56564-95c5-4bad-b3fa-293097f7c93c",
        "colab": {
          "base_uri": "https://localhost:8080/",
          "height": 289
        }
      },
      "source": [
        "top_rated_movies = top_rated.join(movies, top_rated.movieId == movies.movieId).sort(desc(\"avg_rating\"),\n",
        "                                                                                    desc(\"num_ratings\"))\n",
        "top_rated_movies.where(\"num_ratings > 5000\").show(10)"
      ],
      "execution_count": 20,
      "outputs": [
        {
          "output_type": "stream",
          "text": [
            "+-------+-----------+------------------+-------+--------------------+--------------------+\n",
            "|movieId|num_ratings|        avg_rating|movieId|               title|              genres|\n",
            "+-------+-----------+------------------+-------+--------------------+--------------------+\n",
            "|    318|      81482| 4.413576004516335|    318|Shawshank Redempt...|         Crime|Drama|\n",
            "|    858|      52498| 4.324336165187245|    858|Godfather, The (1...|         Crime|Drama|\n",
            "|     50|      55366| 4.284353213163313|     50|Usual Suspects, T...|Crime|Mystery|Thr...|\n",
            "|   1221|      34188|4.2617585117585115|   1221|Godfather: Part I...|         Crime|Drama|\n",
            "|   2019|      13367|  4.25476920775043|   2019|Seven Samurai (Sh...|Action|Adventure|...|\n",
            "|    527|      60411| 4.247579083279535|    527|Schindler's List ...|           Drama|War|\n",
            "|   1203|      16569| 4.243014062405697|   1203| 12 Angry Men (1957)|               Drama|\n",
            "|    904|      20162| 4.237947624243627|    904|  Rear Window (1954)|    Mystery|Thriller|\n",
            "|   2959|      58773| 4.228310618821568|   2959|   Fight Club (1999)|Action|Crime|Dram...|\n",
            "|   1193|      36058|4.2186616007543405|   1193|One Flew Over the...|               Drama|\n",
            "+-------+-----------+------------------+-------+--------------------+--------------------+\n",
            "only showing top 10 rows\n",
            "\n"
          ],
          "name": "stdout"
        }
      ]
    },
    {
      "cell_type": "markdown",
      "metadata": {
        "id": "FbVyhXr1gp_t"
      },
      "source": [
        "#### This gives us top rated movie with atleast rated by 5000 users. This liost include movies like ***SHAWSHANK REDEMPTION, GODFATHER, and FIGHT CLUB !!!***"
      ]
    },
    {
      "cell_type": "markdown",
      "metadata": {
        "id": "k5vOWBgAgp_t"
      },
      "source": [
        "### Top Love Or Hate movies"
      ]
    },
    {
      "cell_type": "markdown",
      "metadata": {
        "id": "aWNQk8nSR701"
      },
      "source": [
        "#### These are the movies with the maximum polarising ratings. Movies with max mixed ratings so movines with max stdev in ratings"
      ]
    },
    {
      "cell_type": "code",
      "metadata": {
        "id": "jDve5bIegp_t"
      },
      "source": [
        "ratings_stddev = ratings.groupBy(\"movieId\").agg(count(\"userId\").alias(\"num_ratings\"),\n",
        "                                                avg(col(\"rating\")).alias(\"avg_rating\"),\n",
        "                                                stddev(col(\"rating\")).alias(\"std_rating\")).where(\"num_ratings > 500\")"
      ],
      "execution_count": 21,
      "outputs": []
    },
    {
      "cell_type": "code",
      "metadata": {
        "id": "y5k_IqMQgp_v"
      },
      "source": [
        "lovehate_movies = ratings_stddev.join(movies, ratings_stddev.movieId == movies.movieId).sort(desc(\"std_rating\"))"
      ],
      "execution_count": 22,
      "outputs": []
    },
    {
      "cell_type": "code",
      "metadata": {
        "id": "KhsmIzQTgp_w",
        "outputId": "dd66e1af-9c74-493f-de4c-b8778dc8f8ae",
        "colab": {
          "base_uri": "https://localhost:8080/",
          "height": 289
        }
      },
      "source": [
        "lovehate_movies.show(10)"
      ],
      "execution_count": 23,
      "outputs": [
        {
          "output_type": "stream",
          "text": [
            "+-------+-----------+------------------+------------------+-------+--------------------+--------------------+\n",
            "|movieId|num_ratings|        avg_rating|        std_rating|movieId|               title|              genres|\n",
            "+-------+-----------+------------------+------------------+-------+--------------------+--------------------+\n",
            "|  74754|        670| 2.403731343283582|1.6649650528666515|  74754|    Room, The (2003)|Comedy|Drama|Romance|\n",
            "|  62912|        611|2.5106382978723403|1.4888552380190527|  62912|High School Music...|             Musical|\n",
            "|  98203|       1569|2.5242192479286167|1.4560043846864676|  98203|Twilight Saga: Br...|Adventure|Drama|F...|\n",
            "|  27899|        616|2.7767857142857144| 1.445519028350731|  27899|What the #$*! Do ...|Comedy|Documentar...|\n",
            "|  91104|       1896|2.3285864978902953| 1.442346851125679|  91104|Twilight Saga: Br...|Adventure|Drama|F...|\n",
            "|   1924|       2210| 2.613348416289593| 1.417228312413465|   1924|Plan 9 from Outer...|       Horror|Sci-Fi|\n",
            "|  78772|       2857|2.3773188659432973| 1.405303363298029|  78772|Twilight Saga: Ec...|Fantasy|Romance|T...|\n",
            "|  46062|       1165| 2.584978540772532|1.3779333361047366|  46062|High School Music...|Children|Comedy|D...|\n",
            "|  81535|        759|2.7259552042160737|1.3775904753516586|  81535|Saw VII 3D - The ...|Horror|Mystery|Th...|\n",
            "|  72407|       2842| 2.351161154116819| 1.377464981075965|  72407|Twilight Saga: Ne...|Drama|Fantasy|Hor...|\n",
            "+-------+-----------+------------------+------------------+-------+--------------------+--------------------+\n",
            "only showing top 10 rows\n",
            "\n"
          ],
          "name": "stdout"
        }
      ]
    },
    {
      "cell_type": "markdown",
      "metadata": {
        "id": "cvgwmq9Pgp_x"
      },
      "source": [
        "These are popular movies with divided opinions(which is max stdev in ratings). These include ***Twilight movies. Rightlt so!!!!***"
      ]
    },
    {
      "cell_type": "markdown",
      "metadata": {
        "id": "iW8eXcF1gp_y"
      },
      "source": [
        "# **Data Modeling**"
      ]
    },
    {
      "cell_type": "code",
      "metadata": {
        "id": "Yr1SEj5pgp_y"
      },
      "source": [
        "data = movies.join(ratings, movies.movieId == ratings.movieId).drop(ratings.movieId)"
      ],
      "execution_count": 24,
      "outputs": []
    },
    {
      "cell_type": "code",
      "metadata": {
        "id": "UF1-aNRvgp_z",
        "outputId": "8412464f-4d6a-4951-eae2-d60a0c1ef47f",
        "colab": {
          "base_uri": "https://localhost:8080/",
          "height": 289
        }
      },
      "source": [
        "data.show(10,truncate = False)"
      ],
      "execution_count": 25,
      "outputs": [
        {
          "output_type": "stream",
          "text": [
            "+-------+------------------------------------------------+---------------------------+------+------+----------+\n",
            "|movieId|title                                           |genres                     |userId|rating|timestamp |\n",
            "+-------+------------------------------------------------+---------------------------+------+------+----------+\n",
            "|296    |Pulp Fiction (1994)                             |Comedy|Crime|Drama|Thriller|1     |5.0   |1147880044|\n",
            "|306    |Three Colors: Red (Trois couleurs: Rouge) (1994)|Drama                      |1     |3.5   |1147868817|\n",
            "|307    |Three Colors: Blue (Trois couleurs: Bleu) (1993)|Drama                      |1     |5.0   |1147868828|\n",
            "|665    |Underground (1995)                              |Comedy|Drama|War           |1     |5.0   |1147878820|\n",
            "|899    |Singin' in the Rain (1952)                      |Comedy|Musical|Romance     |1     |3.5   |1147868510|\n",
            "|1088   |Dirty Dancing (1987)                            |Drama|Musical|Romance      |1     |4.0   |1147868495|\n",
            "|1175   |Delicatessen (1991)                             |Comedy|Drama|Romance       |1     |3.5   |1147868826|\n",
            "|1217   |Ran (1985)                                      |Drama|War                  |1     |3.5   |1147878326|\n",
            "|1237   |Seventh Seal, The (Sjunde inseglet, Det) (1957) |Drama                      |1     |5.0   |1147868839|\n",
            "|1250   |Bridge on the River Kwai, The (1957)            |Adventure|Drama|War        |1     |4.0   |1147868414|\n",
            "+-------+------------------------------------------------+---------------------------+------+------+----------+\n",
            "only showing top 10 rows\n",
            "\n"
          ],
          "name": "stdout"
        }
      ]
    },
    {
      "cell_type": "code",
      "metadata": {
        "id": "R6aeu7jdgp_0"
      },
      "source": [
        "# Splitting the ratings dataset to 80/20 ratio for trainings\n",
        "(training, test) = ratings.randomSplit([0.8, 0.2],seed= 42)"
      ],
      "execution_count": 26,
      "outputs": []
    },
    {
      "cell_type": "markdown",
      "metadata": {
        "id": "x7lQ_XAzgp_1"
      },
      "source": [
        "## Recommendation model using ALS"
      ]
    },
    {
      "cell_type": "code",
      "metadata": {
        "id": "v_rGBWQpgp_1"
      },
      "source": [
        "\n",
        "als = ALS(maxIter=5, regParam=0.1,rank = 5,userCol=\"userId\", itemCol=\"movieId\", ratingCol=\"rating\",\n",
        "          coldStartStrategy=\"drop\",\n",
        "          nonnegative = True,\n",
        "          implicitPrefs = False,\n",
        "          )\n",
        "\n",
        "\n",
        "model = als.fit(training)"
      ],
      "execution_count": 28,
      "outputs": []
    },
    {
      "cell_type": "code",
      "metadata": {
        "id": "zPBShqkygp_3"
      },
      "source": [
        "# Test set Predictions \n",
        "\n",
        "predictions = model.transform(test)"
      ],
      "execution_count": 29,
      "outputs": []
    },
    {
      "cell_type": "code",
      "metadata": {
        "id": "0Lx8CfM1gp_4",
        "outputId": "b429c264-f3df-4986-8a9c-89d2ef2fdb7e",
        "colab": {
          "base_uri": "https://localhost:8080/",
          "height": 459
        }
      },
      "source": [
        "predictions.show()"
      ],
      "execution_count": 30,
      "outputs": [
        {
          "output_type": "stream",
          "text": [
            "+------+-------+------+----------+----------+\n",
            "|userId|movieId|rating| timestamp|prediction|\n",
            "+------+-------+------+----------+----------+\n",
            "| 26480|    148|   2.0| 915406133| 2.3129663|\n",
            "|151614|    148|   1.0| 878170956| 2.7617154|\n",
            "| 28229|    148|   1.0| 833850593| 2.3704815|\n",
            "|  6491|    148|   4.0|1500217059|  2.448495|\n",
            "| 14831|    148|   3.0| 944148276| 2.8325822|\n",
            "|145182|    148|   3.0| 944952722| 2.6657481|\n",
            "| 69123|    148|   4.5|1086929593|  2.391535|\n",
            "|104825|    148|   4.0| 950909863| 3.1199923|\n",
            "| 41703|    148|   2.0|1311022737| 2.9890924|\n",
            "| 29213|    148|   5.0|1366840729| 2.5171993|\n",
            "| 75209|    148|   2.0|1361853682| 2.5997055|\n",
            "|115912|    148|   3.0| 947795986| 2.6461463|\n",
            "|118261|    148|   3.0| 833904940|  3.005985|\n",
            "|138552|    148|   4.0| 829756906| 3.3669233|\n",
            "| 70733|    148|   1.0| 837770520| 2.8460937|\n",
            "|115095|    148|   4.0| 944930740| 3.3398237|\n",
            "|  7223|    148|   3.0| 839813031|  2.517957|\n",
            "| 65981|    148|   3.5|1453259300| 3.0118756|\n",
            "| 74794|    148|   3.0| 989050056| 2.4758575|\n",
            "| 33145|    148|   5.0| 842004154|  2.762953|\n",
            "+------+-------+------+----------+----------+\n",
            "only showing top 20 rows\n",
            "\n"
          ],
          "name": "stdout"
        }
      ]
    },
    {
      "cell_type": "markdown",
      "metadata": {
        "id": "7r_Dmh3yS8QA"
      },
      "source": [
        "# **Model Evaluation**"
      ]
    },
    {
      "cell_type": "code",
      "metadata": {
        "id": "VynAKx03gp_6",
        "outputId": "fee7e8ca-d1b3-4928-b40e-ddcf6f3db93e",
        "colab": {
          "base_uri": "https://localhost:8080/",
          "height": 34
        }
      },
      "source": [
        "evaluator = RegressionEvaluator(metricName=\"rmse\", labelCol=\"rating\",predictionCol=\"prediction\")\n",
        "rmse = evaluator.evaluate(predictions)\n",
        "print(\"Root-mean-square error = \" + str(rmse))"
      ],
      "execution_count": 31,
      "outputs": [
        {
          "output_type": "stream",
          "text": [
            "Root-mean-square error = 0.8254095716645771\n"
          ],
          "name": "stdout"
        }
      ]
    },
    {
      "cell_type": "markdown",
      "metadata": {
        "id": "GfwLRUZ2UDzR"
      },
      "source": [
        "### RMSE of the model is 0.8 "
      ]
    },
    {
      "cell_type": "markdown",
      "metadata": {
        "id": "sHMBm608TIcR"
      },
      "source": [
        "### Testing for a random user"
      ]
    },
    {
      "cell_type": "code",
      "metadata": {
        "id": "LRSjzNnew9n4",
        "outputId": "7570345d-f182-447d-914b-7b661f42931a",
        "colab": {
          "base_uri": "https://localhost:8080/",
          "height": 255
        }
      },
      "source": [
        "test.where(\"userId == 10\").show()"
      ],
      "execution_count": 46,
      "outputs": [
        {
          "output_type": "stream",
          "text": [
            "+------+-------+------+----------+\n",
            "|userId|movieId|rating| timestamp|\n",
            "+------+-------+------+----------+\n",
            "|    10|    193|   1.0|1227570860|\n",
            "|    10|    356|   4.5|1227571313|\n",
            "|    10|    457|   3.5|1227571337|\n",
            "|    10|   1196|   5.0|1227571380|\n",
            "|    10|   2094|   1.5|1227570889|\n",
            "|    10|   2826|   2.0|1227571065|\n",
            "|    10|   5049|   4.0|1227571186|\n",
            "|    10|   5508|   3.0|1227571111|\n",
            "|    10|  52767|   4.5|1227571105|\n",
            "+------+-------+------+----------+\n",
            "\n"
          ],
          "name": "stdout"
        }
      ]
    },
    {
      "cell_type": "code",
      "metadata": {
        "id": "vwmtsu84gp_7"
      },
      "source": [
        "single_user = test.filter(test['userId']==10).select(['movieId','userId'])"
      ],
      "execution_count": 47,
      "outputs": []
    },
    {
      "cell_type": "code",
      "metadata": {
        "id": "X0CyR3drgp_8"
      },
      "source": [
        "reccomendations = model.transform(single_user)"
      ],
      "execution_count": 48,
      "outputs": []
    },
    {
      "cell_type": "code",
      "metadata": {
        "id": "0dh6rE03gp_9",
        "outputId": "4232d58f-c5ed-4c62-ecc3-a65f37bf88a1",
        "colab": {
          "base_uri": "https://localhost:8080/",
          "height": 255
        }
      },
      "source": [
        "reccomendations.orderBy('prediction',ascending=False).show()"
      ],
      "execution_count": 49,
      "outputs": [
        {
          "output_type": "stream",
          "text": [
            "+-------+------+----------+\n",
            "|movieId|userId|prediction|\n",
            "+-------+------+----------+\n",
            "|   1196|    10|  4.109928|\n",
            "|  52767|    10| 3.6272323|\n",
            "|    356|    10| 3.5729246|\n",
            "|    457|    10| 3.5412784|\n",
            "|   5508|    10|  3.503428|\n",
            "|   5049|    10| 3.3510597|\n",
            "|   2826|    10| 3.1149595|\n",
            "|   2094|    10| 2.8638248|\n",
            "|    193|    10| 2.0066993|\n",
            "+-------+------+----------+\n",
            "\n"
          ],
          "name": "stdout"
        }
      ]
    },
    {
      "cell_type": "code",
      "metadata": {
        "id": "V1B53ZHZgp__"
      },
      "source": [
        ""
      ],
      "execution_count": null,
      "outputs": []
    },
    {
      "cell_type": "code",
      "metadata": {
        "id": "5D3p6KmGgqAA"
      },
      "source": [
        ""
      ],
      "execution_count": null,
      "outputs": []
    }
  ]
}